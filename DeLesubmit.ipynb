{
 "cells": [
  {
   "cell_type": "code",
   "execution_count": 1,
   "id": "c3e4bd42-3426-4857-af87-f4902ad1aef7",
   "metadata": {},
   "outputs": [],
   "source": [
    "import os"
   ]
  },
  {
   "cell_type": "code",
   "execution_count": null,
   "id": "e2891e91-6d97-4320-834e-ea9b35f37ebb",
   "metadata": {},
   "outputs": [],
   "source": [
    "        "
   ]
  },
  {
   "cell_type": "code",
   "execution_count": 2,
   "id": "79477857-a39a-4933-90dc-b8869a677f9d",
   "metadata": {},
   "outputs": [
    {
     "name": "stdout",
     "output_type": "stream",
     "text": [
      "moved to-> /mnt/PartPhy/DataBGLNCS\n"
     ]
    }
   ],
   "source": [
    "#Move to Data dir\n",
    "os.chdir(\"../DataBGLNCS\")\n",
    "print(\"moved to->\",os.getcwd())"
   ]
  },
  {
   "cell_type": "code",
   "execution_count": null,
   "id": "056aed4c-f261-4250-b0d1-c2e4b41567c7",
   "metadata": {},
   "outputs": [],
   "source": []
  },
  {
   "cell_type": "code",
   "execution_count": null,
   "id": "1a720e77-6b61-4fa3-a5af-20045967bd92",
   "metadata": {},
   "outputs": [],
   "source": []
  },
  {
   "cell_type": "code",
   "execution_count": 3,
   "id": "88ac89cb-4531-4fb3-bac1-2a2c08a06275",
   "metadata": {},
   "outputs": [
    {
     "name": "stdout",
     "output_type": "stream",
     "text": [
      "start with batch:1\n",
      "start with batch:2\n",
      "start with batch:3\n",
      "start with batch:4\n",
      "start with batch:5\n",
      "start with batch:6\n",
      "start with batch:7\n",
      "start with batch:8\n",
      "start with batch:9\n"
     ]
    }
   ],
   "source": [
    "for i in range(1,10):\n",
    "    dir = 'batch_{}/Result_data/Spheno_output_Folder'.format(i)\n",
    "    list = os.listdir(dir) # dir is your directory path\n",
    "    number_points = len(list)\n",
    "    print(\"start with batch:{}\".format(i))\n",
    "    for j in range(1,number_points+1):\n",
    "        R1 = 'rm batch_{}/Result_data/Spheno_output_Folder/point_{}/BR_H_NP.dat'.format(i,j)\n",
    "        R2 = 'rm batch_{}/Result_data/Spheno_output_Folder/point_{}/BR_Hplus.dat'.format(i,j)\n",
    "        R3 = 'rm batch_{}/Result_data/Spheno_output_Folder/point_{}/BR_t.dat'.format(i,j)    \n",
    "        R4 = 'rm batch_{}/Result_data/Spheno_output_Folder/point_{}/effC.dat'.format(i,j)\n",
    "        R5 = 'rm batch_{}/Result_data/Spheno_output_Folder/point_{}/Messages.out'.format(i,j)\n",
    "        R6 = 'rm batch_{}/Result_data/Spheno_output_Folder/point_{}/MH_GammaTot.dat'.format(i,j)\n",
    "        R7 = 'rm batch_{}/Result_data/Spheno_output_Folder/point_{}/MHplus_GammaTot.dat'.format(i,j)\n",
    "        R8 = 'rm batch_{}/Result_data/Spheno_output_Folder/point_{}/SPheno.out'.format(i,j)\n",
    "        Dcommands = [R1,R2,R3,R4,R5,R6,R7,R8]\n",
    "        for RM in Dcommands:\n",
    "            os.system(RM)\n",
    "        "
   ]
  },
  {
   "cell_type": "code",
   "execution_count": null,
   "id": "02ffe837-c2c3-49a6-86bf-8f29a52f1125",
   "metadata": {},
   "outputs": [],
   "source": []
  },
  {
   "cell_type": "code",
   "execution_count": null,
   "id": "17727bed-e6bc-419b-83ba-36fe9b1c7d98",
   "metadata": {},
   "outputs": [],
   "source": []
  },
  {
   "cell_type": "code",
   "execution_count": null,
   "id": "6d8d742c-8247-44ce-86ae-c930af461f8e",
   "metadata": {},
   "outputs": [],
   "source": []
  },
  {
   "cell_type": "code",
   "execution_count": 4,
   "id": "313f8100-991d-4e14-8b2e-6605a3a724b4",
   "metadata": {},
   "outputs": [],
   "source": [
    "with open('RMGcommands.txt', 'w') as f:\n",
    "    f.write(\"\"\"import model BGLNCS -modelname  \n",
    "generate g g > ah2   \n",
    "output Out_1_H-ZZ\n",
    "y \n",
    "launch  \n",
    "0 \n",
    "SPheno.spc.BGLNCSmg \n",
    "0\n",
    "quit  \"\"\")"
   ]
  },
  {
   "cell_type": "code",
   "execution_count": null,
   "id": "a5cdfe80-a934-4563-8e08-7097cc954528",
   "metadata": {},
   "outputs": [],
   "source": []
  }
 ],
 "metadata": {
  "kernelspec": {
   "display_name": "Python 3",
   "language": "python",
   "name": "python3"
  },
  "language_info": {
   "codemirror_mode": {
    "name": "ipython",
    "version": 3
   },
   "file_extension": ".py",
   "mimetype": "text/x-python",
   "name": "python",
   "nbconvert_exporter": "python",
   "pygments_lexer": "ipython3",
   "version": "3.8.8"
  }
 },
 "nbformat": 4,
 "nbformat_minor": 5
}
